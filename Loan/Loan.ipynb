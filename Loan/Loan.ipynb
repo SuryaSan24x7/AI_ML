{
 "cells": [
  {
   "cell_type": "code",
   "execution_count": null,
   "id": "625ff350",
   "metadata": {},
   "outputs": [],
   "source": [
    "import pandas as pd\n",
    "import numpy as np\n",
    "import matplotlib.pyplot as plt\n",
    "from sklearn.preprocessing import LabelEncoder,OneHotEncoder\n",
    "import seaborn as sns\n",
    "from scipy.stats import chi2_contingency\n",
    "from sklearn.metrics import confusion_matrix,classification_report\n",
    "from sklearn.preprocessing import StandardScaler\n",
    "from sklearn.ensemble import RandomForestClassifier\n",
    "from sklearn.metrics import mean_absolute_error as mae\n",
    "from sklearn.metrics import mean_squared_error as mse\n",
    "import warnings\n",
    "warnings.filterwarnings('ignore')"
   ]
  },
  {
   "cell_type": "code",
   "execution_count": null,
   "id": "01906c1c",
   "metadata": {},
   "outputs": [],
   "source": [
    "file=pd.read_csv('Loan_Eligibility_train.csv')"
   ]
  },
  {
   "cell_type": "code",
   "execution_count": null,
   "id": "87dada09",
   "metadata": {},
   "outputs": [],
   "source": [
    "file.describe()"
   ]
  },
  {
   "cell_type": "code",
   "execution_count": null,
   "id": "73f00591",
   "metadata": {},
   "outputs": [],
   "source": [
    "file.columns"
   ]
  },
  {
   "cell_type": "code",
   "execution_count": null,
   "id": "3d0e4e42",
   "metadata": {},
   "outputs": [],
   "source": [
    "file.head()"
   ]
  },
  {
   "cell_type": "code",
   "execution_count": null,
   "id": "4094c3dc",
   "metadata": {},
   "outputs": [],
   "source": [
    "file.info()"
   ]
  },
  {
   "cell_type": "code",
   "execution_count": null,
   "id": "f0b419ff",
   "metadata": {},
   "outputs": [],
   "source": [
    "file.isnull().sum()"
   ]
  },
  {
   "cell_type": "code",
   "execution_count": null,
   "id": "46633ff6",
   "metadata": {},
   "outputs": [],
   "source": [
    "file.isnull().sum() / file.shape[0] * 100"
   ]
  },
  {
   "cell_type": "code",
   "execution_count": null,
   "id": "a3a0717b",
   "metadata": {},
   "outputs": [],
   "source": [
    "value=file.Gender.value_counts()"
   ]
  },
  {
   "cell_type": "code",
   "execution_count": null,
   "id": "a1733d0a",
   "metadata": {},
   "outputs": [],
   "source": [
    "file.Gender=file.Gender.fillna('Unknown')"
   ]
  },
  {
   "cell_type": "code",
   "execution_count": null,
   "id": "fa6e52d9",
   "metadata": {},
   "outputs": [],
   "source": [
    "file.Married=file.Married.fillna('Yes')"
   ]
  },
  {
   "cell_type": "code",
   "execution_count": null,
   "id": "8142e8ad",
   "metadata": {},
   "outputs": [],
   "source": [
    "file.Dependents.value_counts()"
   ]
  },
  {
   "cell_type": "code",
   "execution_count": null,
   "id": "8214ce05",
   "metadata": {},
   "outputs": [],
   "source": [
    "file.Dependents=file.Dependents.fillna(0)"
   ]
  },
  {
   "cell_type": "code",
   "execution_count": null,
   "id": "eb583b77",
   "metadata": {},
   "outputs": [],
   "source": [
    "file['Self_Employed'].mode()"
   ]
  },
  {
   "cell_type": "code",
   "execution_count": null,
   "id": "db2a29f0",
   "metadata": {},
   "outputs": [],
   "source": [
    "file.Self_Employed=file.Self_Employed.fillna(0)"
   ]
  },
  {
   "cell_type": "code",
   "execution_count": null,
   "id": "28a033fd",
   "metadata": {},
   "outputs": [],
   "source": [
    "file.LoanAmount=file.LoanAmount.fillna(file.LoanAmount.mean())"
   ]
  },
  {
   "cell_type": "code",
   "execution_count": null,
   "id": "d7f8d340",
   "metadata": {},
   "outputs": [],
   "source": [
    "file.Loan_Amount_Term=file.Loan_Amount_Term.fillna(file.Loan_Amount_Term.mean())"
   ]
  },
  {
   "cell_type": "code",
   "execution_count": null,
   "id": "de0e5577",
   "metadata": {},
   "outputs": [],
   "source": [
    "file.Credit_History=file.Credit_History.fillna(1)"
   ]
  },
  {
   "cell_type": "code",
   "execution_count": null,
   "id": "48e58ba9",
   "metadata": {},
   "outputs": [],
   "source": [
    "file.isnull().sum()"
   ]
  },
  {
   "cell_type": "code",
   "execution_count": null,
   "id": "6f9381d0",
   "metadata": {},
   "outputs": [],
   "source": [
    "file.Loan_Status.value_counts()"
   ]
  },
  {
   "cell_type": "code",
   "execution_count": null,
   "id": "f7914bfa",
   "metadata": {},
   "outputs": [],
   "source": [
    "sns.barplot(data=file,x=file.Loan_Status.value_counts(),y=file.Loan_Status.value_counts())"
   ]
  },
  {
   "cell_type": "code",
   "execution_count": null,
   "id": "575189e9",
   "metadata": {},
   "outputs": [],
   "source": [
    "file.Loan_Status.value_counts().plot.bar()"
   ]
  },
  {
   "cell_type": "code",
   "execution_count": null,
   "id": "b874f0e9",
   "metadata": {},
   "outputs": [],
   "source": [
    "file.Gender.value_counts().plot.bar()"
   ]
  },
  {
   "cell_type": "code",
   "execution_count": null,
   "id": "a42f1ead",
   "metadata": {},
   "outputs": [],
   "source": [
    "file.Married.value_counts().plot.bar()"
   ]
  },
  {
   "cell_type": "code",
   "execution_count": null,
   "id": "6615c967",
   "metadata": {},
   "outputs": [],
   "source": [
    "file.Education.value_counts().plot.bar()"
   ]
  },
  {
   "cell_type": "code",
   "execution_count": null,
   "id": "70a5a8e4",
   "metadata": {},
   "outputs": [],
   "source": [
    "file.Self_Employed.value_counts().plot.bar()"
   ]
  },
  {
   "cell_type": "code",
   "execution_count": null,
   "id": "727a1761",
   "metadata": {},
   "outputs": [],
   "source": [
    "file.Credit_History.value_counts().plot.bar()"
   ]
  },
  {
   "cell_type": "code",
   "execution_count": null,
   "id": "bf2c4fc5",
   "metadata": {},
   "outputs": [],
   "source": [
    "file.Dependents.value_counts().plot.bar()"
   ]
  },
  {
   "cell_type": "code",
   "execution_count": null,
   "id": "f119ece3",
   "metadata": {},
   "outputs": [],
   "source": [
    "file.Property_Area.value_counts().plot.bar()"
   ]
  },
  {
   "cell_type": "code",
   "execution_count": null,
   "id": "82cb022e",
   "metadata": {},
   "outputs": [],
   "source": [
    "file.mean()"
   ]
  },
  {
   "cell_type": "code",
   "execution_count": null,
   "id": "79b10375",
   "metadata": {},
   "outputs": [],
   "source": [
    "file.median()"
   ]
  },
  {
   "cell_type": "code",
   "execution_count": null,
   "id": "67b9e57c",
   "metadata": {},
   "outputs": [],
   "source": [
    "file.std()"
   ]
  },
  {
   "cell_type": "code",
   "execution_count": null,
   "id": "7b1c86d8",
   "metadata": {},
   "outputs": [],
   "source": [
    "file.Loan_Status"
   ]
  },
  {
   "cell_type": "code",
   "execution_count": null,
   "id": "a47bd788",
   "metadata": {},
   "outputs": [],
   "source": [
    "file.Loan_Status.value_counts().mean()"
   ]
  },
  {
   "cell_type": "code",
   "execution_count": null,
   "id": "7f49ae85",
   "metadata": {},
   "outputs": [],
   "source": [
    "pd.crosstab(file.Credit_History,file.Loan_Status)"
   ]
  },
  {
   "cell_type": "code",
   "execution_count": null,
   "id": "3385eaa6",
   "metadata": {},
   "outputs": [],
   "source": [
    "Married=pd.crosstab(file.Married,file.Loan_Status) \n",
    "Dependents=pd.crosstab(file.Dependents,file.Loan_Status) \n",
    "Education=pd.crosstab(file.Education,file.Loan_Status) \n",
    "Self_Employed=pd.crosstab(file.Self_Employed,file.Loan_Status) \n",
    "Credit_History=pd.crosstab(file.Credit_History,file.Loan_Status)"
   ]
  },
  {
   "cell_type": "code",
   "execution_count": null,
   "id": "21e001f2",
   "metadata": {},
   "outputs": [],
   "source": [
    "Married.div(Married.sum(1).astype(float), axis=0).plot.bar(stacked=True)"
   ]
  },
  {
   "cell_type": "code",
   "execution_count": null,
   "id": "a3fef868",
   "metadata": {},
   "outputs": [],
   "source": [
    "Dependents.div(Dependents.sum(1).astype(float), axis=0).plot.bar(stacked=True)"
   ]
  },
  {
   "cell_type": "code",
   "execution_count": null,
   "id": "1dd0c62d",
   "metadata": {},
   "outputs": [],
   "source": [
    "Education.div(Education.sum(1).astype(float), axis=0).plot.bar(stacked=True)"
   ]
  },
  {
   "cell_type": "code",
   "execution_count": null,
   "id": "71857e5a",
   "metadata": {},
   "outputs": [],
   "source": [
    "Self_Employed.div(Self_Employed.sum(1).astype(float), axis=0).plot.bar(stacked=True)"
   ]
  },
  {
   "cell_type": "code",
   "execution_count": null,
   "id": "1ad8ab4e",
   "metadata": {},
   "outputs": [],
   "source": [
    "Credit_History.div(Credit_History.sum(1).astype(float), axis=0).plot.bar(stacked=True)"
   ]
  },
  {
   "cell_type": "code",
   "execution_count": null,
   "id": "5ae02ed7",
   "metadata": {},
   "outputs": [],
   "source": [
    "file.shape"
   ]
  },
  {
   "cell_type": "code",
   "execution_count": null,
   "id": "af4ffe90",
   "metadata": {},
   "outputs": [],
   "source": [
    "pd.crosstab(file.Loan_Status,file.Credit_History)"
   ]
  },
  {
   "cell_type": "code",
   "execution_count": null,
   "id": "686e41f5",
   "metadata": {},
   "outputs": [],
   "source": [
    "file.corr()"
   ]
  },
  {
   "cell_type": "code",
   "execution_count": null,
   "id": "1f3dd197",
   "metadata": {},
   "outputs": [],
   "source": [
    "sns.heatmap(file.corr(),annot=True)\n",
    "plt.show()"
   ]
  },
  {
   "cell_type": "code",
   "execution_count": null,
   "id": "b3789131",
   "metadata": {},
   "outputs": [],
   "source": [
    "le=LabelEncoder()"
   ]
  },
  {
   "cell_type": "code",
   "execution_count": null,
   "id": "c3b00c19",
   "metadata": {},
   "outputs": [],
   "source": [
    "oe=OneHotEncoder()"
   ]
  },
  {
   "cell_type": "code",
   "execution_count": null,
   "id": "3f143e7c",
   "metadata": {},
   "outputs": [],
   "source": [
    "file.head()"
   ]
  },
  {
   "cell_type": "code",
   "execution_count": null,
   "id": "e32f3ecc",
   "metadata": {},
   "outputs": [],
   "source": [
    "\n",
    "def Outlier_Correction(n):\n",
    "    q1,q2,q3=np.percentile(n,[25,50,75])\n",
    "    lower_layer=q1-(1.5*n.std())\n",
    "    upper_layer=q3+(1.5*n.std())\n",
    "    print(lower_layer,upper_layer)\n",
    "    return lower_layer,upper_layer\n",
    "outliers=[]\n",
    "lower_layer=[]\n",
    "upper_layer=[]\n",
    "for j in file.columns:\n",
    "    try:\n",
    "        outlier_column = []\n",
    "        print(j)\n",
    "        lower_layer_int,upper_layer_int=Outlier_Correction(file[j])\n",
    "        lower_layer.append(lower_layer_int)\n",
    "        upper_layer.append(upper_layer_int)\n",
    "        for i, r in enumerate(file[j]):\n",
    "            if r < lower_layer_int:\n",
    "                data.at[i, j] = lower_layer_int\n",
    "            if r > upper_layer_int:\n",
    "                data.at[i,j] = upper_layer_int\n",
    "    except Exception as e:\n",
    "        print(f\"Exception :{e}\")\n",
    "        \n",
    "        "
   ]
  },
  {
   "cell_type": "code",
   "execution_count": null,
   "id": "b2fde970",
   "metadata": {},
   "outputs": [],
   "source": [
    "file.columns"
   ]
  },
  {
   "cell_type": "code",
   "execution_count": null,
   "id": "a990d0fd",
   "metadata": {},
   "outputs": [],
   "source": [
    "file.corr()"
   ]
  },
  {
   "cell_type": "code",
   "execution_count": null,
   "id": "1f618ac7",
   "metadata": {},
   "outputs": [],
   "source": [
    "file=file.drop(['Loan_ID'],axis=1)"
   ]
  },
  {
   "cell_type": "code",
   "execution_count": null,
   "id": "04c188bb",
   "metadata": {},
   "outputs": [],
   "source": [
    "file=pd.get_dummies(file,columns=['Gender', 'Married', 'Education','Property_Area','Self_Employed'])"
   ]
  },
  {
   "cell_type": "code",
   "execution_count": null,
   "id": "6d948a79",
   "metadata": {},
   "outputs": [],
   "source": [
    "file.head()"
   ]
  },
  {
   "cell_type": "code",
   "execution_count": null,
   "id": "4220df6b",
   "metadata": {},
   "outputs": [],
   "source": [
    "file.Dependents=file.Dependents.replace('3+',3)"
   ]
  },
  {
   "cell_type": "code",
   "execution_count": null,
   "id": "02e6c51d",
   "metadata": {},
   "outputs": [],
   "source": [
    "file.Dependents.value_counts()"
   ]
  },
  {
   "cell_type": "code",
   "execution_count": null,
   "id": "186129ac",
   "metadata": {},
   "outputs": [],
   "source": [
    "le.fit(file.Loan_Status)\n",
    "file.Loan_Status=le.transform(file.Loan_Status)"
   ]
  },
  {
   "cell_type": "code",
   "execution_count": null,
   "id": "6f9cbae4",
   "metadata": {},
   "outputs": [],
   "source": [
    "file.head()"
   ]
  },
  {
   "cell_type": "code",
   "execution_count": null,
   "id": "a45cc2f0",
   "metadata": {},
   "outputs": [],
   "source": [
    "X = file.drop('Loan_Status',axis=1) \n",
    "y = file.Loan_Status"
   ]
  },
  {
   "cell_type": "code",
   "execution_count": null,
   "id": "10eeab9f",
   "metadata": {},
   "outputs": [],
   "source": [
    "from sklearn.model_selection import train_test_split\n",
    "X_train, X_test, y_train, y_test = train_test_split(X,y, test_size =0.20)"
   ]
  },
  {
   "cell_type": "code",
   "execution_count": null,
   "id": "a6bc45db",
   "metadata": {},
   "outputs": [],
   "source": [
    "from sklearn.linear_model import LogisticRegression"
   ]
  },
  {
   "cell_type": "code",
   "execution_count": null,
   "id": "677e427e",
   "metadata": {},
   "outputs": [],
   "source": [
    "reg = LogisticRegression()\n"
   ]
  },
  {
   "cell_type": "code",
   "execution_count": null,
   "id": "b13767d9",
   "metadata": {},
   "outputs": [],
   "source": [
    "X_train"
   ]
  },
  {
   "cell_type": "code",
   "execution_count": null,
   "id": "b145dc03",
   "metadata": {},
   "outputs": [],
   "source": [
    "y_train"
   ]
  },
  {
   "cell_type": "code",
   "execution_count": null,
   "id": "902a1092",
   "metadata": {},
   "outputs": [],
   "source": [
    "reg.fit(X_train,y_train)"
   ]
  },
  {
   "cell_type": "code",
   "execution_count": null,
   "id": "c7a07e70",
   "metadata": {},
   "outputs": [],
   "source": [
    "pred= reg.predict(X_test)"
   ]
  },
  {
   "cell_type": "code",
   "execution_count": null,
   "id": "9b86d72a",
   "metadata": {},
   "outputs": [],
   "source": [
    "pred"
   ]
  },
  {
   "cell_type": "code",
   "execution_count": null,
   "id": "061913c0",
   "metadata": {},
   "outputs": [],
   "source": [
    "from sklearn.metrics import accuracy_score,precision_score,recall_score"
   ]
  },
  {
   "cell_type": "code",
   "execution_count": null,
   "id": "d1199f1d",
   "metadata": {},
   "outputs": [],
   "source": [
    "accuracy_score(y_test,pred)"
   ]
  },
  {
   "cell_type": "code",
   "execution_count": null,
   "id": "be5e0ff6",
   "metadata": {},
   "outputs": [],
   "source": [
    "precision_score(y_test,pred)"
   ]
  },
  {
   "cell_type": "code",
   "execution_count": null,
   "id": "3c73bd2f",
   "metadata": {},
   "outputs": [],
   "source": [
    "recall_score(y_test,pred)"
   ]
  },
  {
   "cell_type": "code",
   "execution_count": null,
   "id": "7361a387",
   "metadata": {},
   "outputs": [],
   "source": [
    "confusion_matrix(y_test,pred)"
   ]
  },
  {
   "cell_type": "code",
   "execution_count": null,
   "id": "59c9a82e",
   "metadata": {},
   "outputs": [],
   "source": [
    "sc= StandardScaler()\n",
    "sc.fit(X_train)"
   ]
  },
  {
   "cell_type": "code",
   "execution_count": null,
   "id": "e973fe6b",
   "metadata": {},
   "outputs": [],
   "source": [
    "X_train = sc.transform(X_train)\n",
    "X_test = sc.transform(X_test) "
   ]
  },
  {
   "cell_type": "code",
   "execution_count": null,
   "id": "328d19e7",
   "metadata": {},
   "outputs": [],
   "source": [
    "classifier=RandomForestClassifier(n_estimators=10)"
   ]
  },
  {
   "cell_type": "code",
   "execution_count": null,
   "id": "13f66b0e",
   "metadata": {},
   "outputs": [],
   "source": [
    "classifier.fit(X_train,y_train) "
   ]
  },
  {
   "cell_type": "code",
   "execution_count": null,
   "id": "decf683b",
   "metadata": {},
   "outputs": [],
   "source": [
    "pred1 = classifier.predict(X_test)"
   ]
  },
  {
   "cell_type": "code",
   "execution_count": null,
   "id": "c48d9482",
   "metadata": {},
   "outputs": [],
   "source": [
    "print(classification_report(y_test,pred1))"
   ]
  },
  {
   "cell_type": "code",
   "execution_count": null,
   "id": "dad66d18",
   "metadata": {},
   "outputs": [],
   "source": [
    "confusion_matrix(y_test,pred1)"
   ]
  },
  {
   "cell_type": "code",
   "execution_count": null,
   "id": "bae1a8ae",
   "metadata": {},
   "outputs": [],
   "source": [
    "error = mae(y_test,pred)\n",
    "error\n",
    "error2 = mse(y_test,pred)\n",
    "error2"
   ]
  },
  {
   "cell_type": "code",
   "execution_count": null,
   "id": "0c3616b9",
   "metadata": {},
   "outputs": [],
   "source": [
    "error1 = mae(y_test,pred1)\n",
    "error1"
   ]
  },
  {
   "cell_type": "code",
   "execution_count": null,
   "id": "920b7d2e",
   "metadata": {},
   "outputs": [],
   "source": [
    "error2 = mse(y_test,pred)\n",
    "error2"
   ]
  },
  {
   "cell_type": "code",
   "execution_count": null,
   "id": "1eec4fd9",
   "metadata": {},
   "outputs": [],
   "source": []
  },
  {
   "cell_type": "code",
   "execution_count": null,
   "id": "3129f939",
   "metadata": {},
   "outputs": [],
   "source": []
  },
  {
   "cell_type": "code",
   "execution_count": null,
   "id": "9b39dd47",
   "metadata": {},
   "outputs": [],
   "source": []
  }
 ],
 "metadata": {
  "kernelspec": {
   "display_name": "Python 3 (ipykernel)",
   "language": "python",
   "name": "python3"
  },
  "language_info": {
   "codemirror_mode": {
    "name": "ipython",
    "version": 3
   },
   "file_extension": ".py",
   "mimetype": "text/x-python",
   "name": "python",
   "nbconvert_exporter": "python",
   "pygments_lexer": "ipython3",
   "version": "3.9.13"
  }
 },
 "nbformat": 4,
 "nbformat_minor": 5
}
